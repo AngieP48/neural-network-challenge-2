{
  "cells": [
    {
      "cell_type": "markdown",
      "metadata": {
        "id": "alIIEHibGc3M"
      },
      "source": [
        "## Part 1: Preprocessing"
      ]
    },
    {
      "cell_type": "code",
      "execution_count": 47,
      "metadata": {
        "colab": {
          "base_uri": "https://localhost:8080/",
          "height": 325
        },
        "id": "6eDUJ4NtGc3P",
        "outputId": "2480098c-135c-4cbf-9552-018494ee8ff5"
      },
      "outputs": [
        {
          "data": {
            "text/html": [
              "<div>\n",
              "<style scoped>\n",
              "    .dataframe tbody tr th:only-of-type {\n",
              "        vertical-align: middle;\n",
              "    }\n",
              "\n",
              "    .dataframe tbody tr th {\n",
              "        vertical-align: top;\n",
              "    }\n",
              "\n",
              "    .dataframe thead th {\n",
              "        text-align: right;\n",
              "    }\n",
              "</style>\n",
              "<table border=\"1\" class=\"dataframe\">\n",
              "  <thead>\n",
              "    <tr style=\"text-align: right;\">\n",
              "      <th></th>\n",
              "      <th>Age</th>\n",
              "      <th>Attrition</th>\n",
              "      <th>BusinessTravel</th>\n",
              "      <th>Department</th>\n",
              "      <th>DistanceFromHome</th>\n",
              "      <th>Education</th>\n",
              "      <th>EducationField</th>\n",
              "      <th>EnvironmentSatisfaction</th>\n",
              "      <th>HourlyRate</th>\n",
              "      <th>JobInvolvement</th>\n",
              "      <th>...</th>\n",
              "      <th>PerformanceRating</th>\n",
              "      <th>RelationshipSatisfaction</th>\n",
              "      <th>StockOptionLevel</th>\n",
              "      <th>TotalWorkingYears</th>\n",
              "      <th>TrainingTimesLastYear</th>\n",
              "      <th>WorkLifeBalance</th>\n",
              "      <th>YearsAtCompany</th>\n",
              "      <th>YearsInCurrentRole</th>\n",
              "      <th>YearsSinceLastPromotion</th>\n",
              "      <th>YearsWithCurrManager</th>\n",
              "    </tr>\n",
              "  </thead>\n",
              "  <tbody>\n",
              "    <tr>\n",
              "      <th>0</th>\n",
              "      <td>41</td>\n",
              "      <td>Yes</td>\n",
              "      <td>Travel_Rarely</td>\n",
              "      <td>Sales</td>\n",
              "      <td>1</td>\n",
              "      <td>2</td>\n",
              "      <td>Life Sciences</td>\n",
              "      <td>2</td>\n",
              "      <td>94</td>\n",
              "      <td>3</td>\n",
              "      <td>...</td>\n",
              "      <td>3</td>\n",
              "      <td>1</td>\n",
              "      <td>0</td>\n",
              "      <td>8</td>\n",
              "      <td>0</td>\n",
              "      <td>1</td>\n",
              "      <td>6</td>\n",
              "      <td>4</td>\n",
              "      <td>0</td>\n",
              "      <td>5</td>\n",
              "    </tr>\n",
              "    <tr>\n",
              "      <th>1</th>\n",
              "      <td>49</td>\n",
              "      <td>No</td>\n",
              "      <td>Travel_Frequently</td>\n",
              "      <td>Research &amp; Development</td>\n",
              "      <td>8</td>\n",
              "      <td>1</td>\n",
              "      <td>Life Sciences</td>\n",
              "      <td>3</td>\n",
              "      <td>61</td>\n",
              "      <td>2</td>\n",
              "      <td>...</td>\n",
              "      <td>4</td>\n",
              "      <td>4</td>\n",
              "      <td>1</td>\n",
              "      <td>10</td>\n",
              "      <td>3</td>\n",
              "      <td>3</td>\n",
              "      <td>10</td>\n",
              "      <td>7</td>\n",
              "      <td>1</td>\n",
              "      <td>7</td>\n",
              "    </tr>\n",
              "    <tr>\n",
              "      <th>2</th>\n",
              "      <td>37</td>\n",
              "      <td>Yes</td>\n",
              "      <td>Travel_Rarely</td>\n",
              "      <td>Research &amp; Development</td>\n",
              "      <td>2</td>\n",
              "      <td>2</td>\n",
              "      <td>Other</td>\n",
              "      <td>4</td>\n",
              "      <td>92</td>\n",
              "      <td>2</td>\n",
              "      <td>...</td>\n",
              "      <td>3</td>\n",
              "      <td>2</td>\n",
              "      <td>0</td>\n",
              "      <td>7</td>\n",
              "      <td>3</td>\n",
              "      <td>3</td>\n",
              "      <td>0</td>\n",
              "      <td>0</td>\n",
              "      <td>0</td>\n",
              "      <td>0</td>\n",
              "    </tr>\n",
              "    <tr>\n",
              "      <th>3</th>\n",
              "      <td>33</td>\n",
              "      <td>No</td>\n",
              "      <td>Travel_Frequently</td>\n",
              "      <td>Research &amp; Development</td>\n",
              "      <td>3</td>\n",
              "      <td>4</td>\n",
              "      <td>Life Sciences</td>\n",
              "      <td>4</td>\n",
              "      <td>56</td>\n",
              "      <td>3</td>\n",
              "      <td>...</td>\n",
              "      <td>3</td>\n",
              "      <td>3</td>\n",
              "      <td>0</td>\n",
              "      <td>8</td>\n",
              "      <td>3</td>\n",
              "      <td>3</td>\n",
              "      <td>8</td>\n",
              "      <td>7</td>\n",
              "      <td>3</td>\n",
              "      <td>0</td>\n",
              "    </tr>\n",
              "    <tr>\n",
              "      <th>4</th>\n",
              "      <td>27</td>\n",
              "      <td>No</td>\n",
              "      <td>Travel_Rarely</td>\n",
              "      <td>Research &amp; Development</td>\n",
              "      <td>2</td>\n",
              "      <td>1</td>\n",
              "      <td>Medical</td>\n",
              "      <td>1</td>\n",
              "      <td>40</td>\n",
              "      <td>3</td>\n",
              "      <td>...</td>\n",
              "      <td>3</td>\n",
              "      <td>4</td>\n",
              "      <td>1</td>\n",
              "      <td>6</td>\n",
              "      <td>3</td>\n",
              "      <td>3</td>\n",
              "      <td>2</td>\n",
              "      <td>2</td>\n",
              "      <td>2</td>\n",
              "      <td>2</td>\n",
              "    </tr>\n",
              "  </tbody>\n",
              "</table>\n",
              "<p>5 rows × 27 columns</p>\n",
              "</div>"
            ],
            "text/plain": [
              "   Age Attrition     BusinessTravel              Department  DistanceFromHome  \\\n",
              "0   41       Yes      Travel_Rarely                   Sales                 1   \n",
              "1   49        No  Travel_Frequently  Research & Development                 8   \n",
              "2   37       Yes      Travel_Rarely  Research & Development                 2   \n",
              "3   33        No  Travel_Frequently  Research & Development                 3   \n",
              "4   27        No      Travel_Rarely  Research & Development                 2   \n",
              "\n",
              "   Education EducationField  EnvironmentSatisfaction  HourlyRate  \\\n",
              "0          2  Life Sciences                        2          94   \n",
              "1          1  Life Sciences                        3          61   \n",
              "2          2          Other                        4          92   \n",
              "3          4  Life Sciences                        4          56   \n",
              "4          1        Medical                        1          40   \n",
              "\n",
              "   JobInvolvement  ...  PerformanceRating RelationshipSatisfaction  \\\n",
              "0               3  ...                  3                        1   \n",
              "1               2  ...                  4                        4   \n",
              "2               2  ...                  3                        2   \n",
              "3               3  ...                  3                        3   \n",
              "4               3  ...                  3                        4   \n",
              "\n",
              "   StockOptionLevel TotalWorkingYears  TrainingTimesLastYear WorkLifeBalance  \\\n",
              "0                 0                 8                      0               1   \n",
              "1                 1                10                      3               3   \n",
              "2                 0                 7                      3               3   \n",
              "3                 0                 8                      3               3   \n",
              "4                 1                 6                      3               3   \n",
              "\n",
              "   YearsAtCompany  YearsInCurrentRole  YearsSinceLastPromotion  \\\n",
              "0               6                   4                        0   \n",
              "1              10                   7                        1   \n",
              "2               0                   0                        0   \n",
              "3               8                   7                        3   \n",
              "4               2                   2                        2   \n",
              "\n",
              "   YearsWithCurrManager  \n",
              "0                     5  \n",
              "1                     7  \n",
              "2                     0  \n",
              "3                     0  \n",
              "4                     2  \n",
              "\n",
              "[5 rows x 27 columns]"
            ]
          },
          "execution_count": 47,
          "metadata": {},
          "output_type": "execute_result"
        }
      ],
      "source": [
        "# Import our dependencies\n",
        "from sklearn.model_selection import train_test_split\n",
        "from sklearn.preprocessing import StandardScaler\n",
        "import pandas as pd\n",
        "import numpy as np\n",
        "from tensorflow.keras.models import Model\n",
        "from tensorflow.keras import layers\n",
        "\n",
        "#  Import and read the attrition data\n",
        "attrition_df = pd.read_csv('https://static.bc-edx.com/ai/ail-v-1-0/m19/lms/datasets/attrition.csv')\n",
        "attrition_df.head()"
      ]
    },
    {
      "cell_type": "code",
      "execution_count": null,
      "metadata": {},
      "outputs": [],
      "source": []
    },
    {
      "cell_type": "code",
      "execution_count": 48,
      "metadata": {
        "colab": {
          "base_uri": "https://localhost:8080/"
        },
        "id": "g22aQSY4Gc3Q",
        "outputId": "1f5c13c1-b981-4e40-a7ed-dd3fe6f1b81e"
      },
      "outputs": [
        {
          "data": {
            "text/plain": [
              "Age                         43\n",
              "Attrition                    2\n",
              "BusinessTravel               3\n",
              "Department                   3\n",
              "DistanceFromHome            29\n",
              "Education                    5\n",
              "EducationField               6\n",
              "EnvironmentSatisfaction      4\n",
              "HourlyRate                  71\n",
              "JobInvolvement               4\n",
              "JobLevel                     5\n",
              "JobRole                      9\n",
              "JobSatisfaction              4\n",
              "MaritalStatus                3\n",
              "NumCompaniesWorked          10\n",
              "OverTime                     2\n",
              "PercentSalaryHike           15\n",
              "PerformanceRating            2\n",
              "RelationshipSatisfaction     4\n",
              "StockOptionLevel             4\n",
              "TotalWorkingYears           40\n",
              "TrainingTimesLastYear        7\n",
              "WorkLifeBalance              4\n",
              "YearsAtCompany              37\n",
              "YearsInCurrentRole          19\n",
              "YearsSinceLastPromotion     16\n",
              "YearsWithCurrManager        18\n",
              "dtype: int64"
            ]
          },
          "execution_count": 48,
          "metadata": {},
          "output_type": "execute_result"
        }
      ],
      "source": [
        "# Determine the number of unique values in each column.\n",
        "attrition_df.nunique()"
      ]
    },
    {
      "cell_type": "code",
      "execution_count": 49,
      "metadata": {
        "id": "50vMgBEnJbfM"
      },
      "outputs": [],
      "source": [
        "# Create y_df with the Attrition and Department columns\n",
        "y_df = attrition_df[['Attrition', 'Department']]\n"
      ]
    },
    {
      "cell_type": "code",
      "execution_count": 50,
      "metadata": {
        "colab": {
          "base_uri": "https://localhost:8080/"
        },
        "id": "Virka0zLGc3R",
        "outputId": "dd5aee3a-9458-4ba6-e857-1b234de40915"
      },
      "outputs": [
        {
          "data": {
            "text/plain": [
              "Age                    int64\n",
              "BusinessTravel        object\n",
              "Department            object\n",
              "DistanceFromHome       int64\n",
              "HourlyRate             int64\n",
              "Education              int64\n",
              "JobRole               object\n",
              "NumCompaniesWorked     int64\n",
              "PercentSalaryHike      int64\n",
              "TotalWorkingYears      int64\n",
              "dtype: object"
            ]
          },
          "execution_count": 50,
          "metadata": {},
          "output_type": "execute_result"
        }
      ],
      "source": [
        "# Create a list of at least 10 column names to use as X data\n",
        "attributes = ['Age', 'BusinessTravel', 'Department', 'DistanceFromHome', 'HourlyRate', 'Education', 'JobRole', 'NumCompaniesWorked', 'PercentSalaryHike', 'TotalWorkingYears']\n",
        "\n",
        "\n",
        "# Create X_df using your selected columns\n",
        "X_df = attrition_df[attributes]\n",
        "\n",
        "# Show the data types for X_df\n",
        "X_df.dtypes\n"
      ]
    },
    {
      "cell_type": "code",
      "execution_count": 51,
      "metadata": {},
      "outputs": [
        {
          "data": {
            "text/html": [
              "<div>\n",
              "<style scoped>\n",
              "    .dataframe tbody tr th:only-of-type {\n",
              "        vertical-align: middle;\n",
              "    }\n",
              "\n",
              "    .dataframe tbody tr th {\n",
              "        vertical-align: top;\n",
              "    }\n",
              "\n",
              "    .dataframe thead th {\n",
              "        text-align: right;\n",
              "    }\n",
              "</style>\n",
              "<table border=\"1\" class=\"dataframe\">\n",
              "  <thead>\n",
              "    <tr style=\"text-align: right;\">\n",
              "      <th></th>\n",
              "      <th>Age</th>\n",
              "      <th>DistanceFromHome</th>\n",
              "      <th>HourlyRate</th>\n",
              "      <th>Education</th>\n",
              "      <th>NumCompaniesWorked</th>\n",
              "      <th>PercentSalaryHike</th>\n",
              "      <th>TotalWorkingYears</th>\n",
              "      <th>BusinessTravel_Non-Travel</th>\n",
              "      <th>BusinessTravel_Travel_Frequently</th>\n",
              "      <th>BusinessTravel_Travel_Rarely</th>\n",
              "      <th>...</th>\n",
              "      <th>Department_Sales</th>\n",
              "      <th>JobRole_Healthcare Representative</th>\n",
              "      <th>JobRole_Human Resources</th>\n",
              "      <th>JobRole_Laboratory Technician</th>\n",
              "      <th>JobRole_Manager</th>\n",
              "      <th>JobRole_Manufacturing Director</th>\n",
              "      <th>JobRole_Research Director</th>\n",
              "      <th>JobRole_Research Scientist</th>\n",
              "      <th>JobRole_Sales Executive</th>\n",
              "      <th>JobRole_Sales Representative</th>\n",
              "    </tr>\n",
              "  </thead>\n",
              "  <tbody>\n",
              "    <tr>\n",
              "      <th>0</th>\n",
              "      <td>41</td>\n",
              "      <td>1</td>\n",
              "      <td>94</td>\n",
              "      <td>2</td>\n",
              "      <td>8</td>\n",
              "      <td>11</td>\n",
              "      <td>8</td>\n",
              "      <td>0</td>\n",
              "      <td>0</td>\n",
              "      <td>1</td>\n",
              "      <td>...</td>\n",
              "      <td>1</td>\n",
              "      <td>0</td>\n",
              "      <td>0</td>\n",
              "      <td>0</td>\n",
              "      <td>0</td>\n",
              "      <td>0</td>\n",
              "      <td>0</td>\n",
              "      <td>0</td>\n",
              "      <td>1</td>\n",
              "      <td>0</td>\n",
              "    </tr>\n",
              "    <tr>\n",
              "      <th>1</th>\n",
              "      <td>49</td>\n",
              "      <td>8</td>\n",
              "      <td>61</td>\n",
              "      <td>1</td>\n",
              "      <td>1</td>\n",
              "      <td>23</td>\n",
              "      <td>10</td>\n",
              "      <td>0</td>\n",
              "      <td>1</td>\n",
              "      <td>0</td>\n",
              "      <td>...</td>\n",
              "      <td>0</td>\n",
              "      <td>0</td>\n",
              "      <td>0</td>\n",
              "      <td>0</td>\n",
              "      <td>0</td>\n",
              "      <td>0</td>\n",
              "      <td>0</td>\n",
              "      <td>1</td>\n",
              "      <td>0</td>\n",
              "      <td>0</td>\n",
              "    </tr>\n",
              "    <tr>\n",
              "      <th>2</th>\n",
              "      <td>37</td>\n",
              "      <td>2</td>\n",
              "      <td>92</td>\n",
              "      <td>2</td>\n",
              "      <td>6</td>\n",
              "      <td>15</td>\n",
              "      <td>7</td>\n",
              "      <td>0</td>\n",
              "      <td>0</td>\n",
              "      <td>1</td>\n",
              "      <td>...</td>\n",
              "      <td>0</td>\n",
              "      <td>0</td>\n",
              "      <td>0</td>\n",
              "      <td>1</td>\n",
              "      <td>0</td>\n",
              "      <td>0</td>\n",
              "      <td>0</td>\n",
              "      <td>0</td>\n",
              "      <td>0</td>\n",
              "      <td>0</td>\n",
              "    </tr>\n",
              "    <tr>\n",
              "      <th>3</th>\n",
              "      <td>33</td>\n",
              "      <td>3</td>\n",
              "      <td>56</td>\n",
              "      <td>4</td>\n",
              "      <td>1</td>\n",
              "      <td>11</td>\n",
              "      <td>8</td>\n",
              "      <td>0</td>\n",
              "      <td>1</td>\n",
              "      <td>0</td>\n",
              "      <td>...</td>\n",
              "      <td>0</td>\n",
              "      <td>0</td>\n",
              "      <td>0</td>\n",
              "      <td>0</td>\n",
              "      <td>0</td>\n",
              "      <td>0</td>\n",
              "      <td>0</td>\n",
              "      <td>1</td>\n",
              "      <td>0</td>\n",
              "      <td>0</td>\n",
              "    </tr>\n",
              "    <tr>\n",
              "      <th>4</th>\n",
              "      <td>27</td>\n",
              "      <td>2</td>\n",
              "      <td>40</td>\n",
              "      <td>1</td>\n",
              "      <td>9</td>\n",
              "      <td>12</td>\n",
              "      <td>6</td>\n",
              "      <td>0</td>\n",
              "      <td>0</td>\n",
              "      <td>1</td>\n",
              "      <td>...</td>\n",
              "      <td>0</td>\n",
              "      <td>0</td>\n",
              "      <td>0</td>\n",
              "      <td>1</td>\n",
              "      <td>0</td>\n",
              "      <td>0</td>\n",
              "      <td>0</td>\n",
              "      <td>0</td>\n",
              "      <td>0</td>\n",
              "      <td>0</td>\n",
              "    </tr>\n",
              "  </tbody>\n",
              "</table>\n",
              "<p>5 rows × 22 columns</p>\n",
              "</div>"
            ],
            "text/plain": [
              "   Age  DistanceFromHome  HourlyRate  Education  NumCompaniesWorked  \\\n",
              "0   41                 1          94          2                   8   \n",
              "1   49                 8          61          1                   1   \n",
              "2   37                 2          92          2                   6   \n",
              "3   33                 3          56          4                   1   \n",
              "4   27                 2          40          1                   9   \n",
              "\n",
              "   PercentSalaryHike  TotalWorkingYears  BusinessTravel_Non-Travel  \\\n",
              "0                 11                  8                          0   \n",
              "1                 23                 10                          0   \n",
              "2                 15                  7                          0   \n",
              "3                 11                  8                          0   \n",
              "4                 12                  6                          0   \n",
              "\n",
              "   BusinessTravel_Travel_Frequently  BusinessTravel_Travel_Rarely  ...  \\\n",
              "0                                 0                             1  ...   \n",
              "1                                 1                             0  ...   \n",
              "2                                 0                             1  ...   \n",
              "3                                 1                             0  ...   \n",
              "4                                 0                             1  ...   \n",
              "\n",
              "   Department_Sales  JobRole_Healthcare Representative  \\\n",
              "0                 1                                  0   \n",
              "1                 0                                  0   \n",
              "2                 0                                  0   \n",
              "3                 0                                  0   \n",
              "4                 0                                  0   \n",
              "\n",
              "   JobRole_Human Resources  JobRole_Laboratory Technician  JobRole_Manager  \\\n",
              "0                        0                              0                0   \n",
              "1                        0                              0                0   \n",
              "2                        0                              1                0   \n",
              "3                        0                              0                0   \n",
              "4                        0                              1                0   \n",
              "\n",
              "   JobRole_Manufacturing Director  JobRole_Research Director  \\\n",
              "0                               0                          0   \n",
              "1                               0                          0   \n",
              "2                               0                          0   \n",
              "3                               0                          0   \n",
              "4                               0                          0   \n",
              "\n",
              "   JobRole_Research Scientist  JobRole_Sales Executive  \\\n",
              "0                           0                        1   \n",
              "1                           1                        0   \n",
              "2                           0                        0   \n",
              "3                           1                        0   \n",
              "4                           0                        0   \n",
              "\n",
              "   JobRole_Sales Representative  \n",
              "0                             0  \n",
              "1                             0  \n",
              "2                             0  \n",
              "3                             0  \n",
              "4                             0  \n",
              "\n",
              "[5 rows x 22 columns]"
            ]
          },
          "execution_count": 51,
          "metadata": {},
          "output_type": "execute_result"
        }
      ],
      "source": [
        "# Convert your X data to numeric data types however you see fit\n",
        "# Add new code cells as necessary\n",
        "X_numeric = pd.get_dummies(X_df).astype(int)\n",
        "X_numeric.head()"
      ]
    },
    {
      "cell_type": "code",
      "execution_count": 52,
      "metadata": {
        "id": "KaJfdOGUMHMR"
      },
      "outputs": [],
      "source": [
        "# Split the data into training and testing sets\n",
        "from sklearn.model_selection import train_test_split\n",
        "X_train, X_test, y_train, y_test = train_test_split(X_numeric, y_df, test_size=0.2, random_state=42)\n"
      ]
    },
    {
      "cell_type": "code",
      "execution_count": 53,
      "metadata": {
        "id": "EWA-aIA5Gc3T"
      },
      "outputs": [],
      "source": [
        "# Create a StandardScaler\n",
        "scaler = StandardScaler()\n",
        "\n",
        "# Fit the StandardScaler to the training data\n",
        "scaler.fit(X_train)\n",
        "\n",
        "# Scale the training and testing data\n",
        "X_train_scaled = scaler.transform(X_train)\n",
        "X_test_scaled = scaler.transform(X_test)\n",
        "\n"
      ]
    },
    {
      "cell_type": "code",
      "execution_count": 54,
      "metadata": {
        "colab": {
          "base_uri": "https://localhost:8080/"
        },
        "id": "-z0Mky8vQSz4",
        "outputId": "debefc85-c20b-48f5-f4d9-91eadd65d36a"
      },
      "outputs": [],
      "source": [
        "# Create a OneHotEncoder for the Department column\n",
        "from sklearn.preprocessing import OneHotEncoder\n",
        "dept_OHE = OneHotEncoder(sparse_output=False)\n",
        "\n",
        "# Fit the encoder to the training data\n",
        "dept_OHE.fit(y_train[['Department']])\n",
        "\n",
        "# Create two new variables by applying the encoder\n",
        "# to the training and testing data\n",
        "y_train_encoded = dept_OHE.transform(y_train[['Department']])\n",
        "y_test_encoded = dept_OHE.transform(y_test[['Department']])\n",
        "\n"
      ]
    },
    {
      "cell_type": "code",
      "execution_count": 55,
      "metadata": {
        "colab": {
          "base_uri": "https://localhost:8080/"
        },
        "id": "-G4DSpvFRrk4",
        "outputId": "9842e948-8a55-4b80-8fac-f96714e85589"
      },
      "outputs": [],
      "source": [
        "# Create a OneHotEncoder for the Department column\n",
        "from sklearn.preprocessing import OneHotEncoder\n",
        "dept_OHE = OneHotEncoder(sparse_output=False)\n",
        "\n",
        "# Fit the encoder to the training data\n",
        "dept_OHE.fit(y_train[['Department']])\n",
        "\n",
        "# Create two new variables by applying the encoder\n",
        "# to the training and testing data\n",
        "y_train_encoded = dept_OHE.transform(y_train[['Department']])\n",
        "y_test_encoded = dept_OHE.transform(y_test[['Department']])\n",
        "\n"
      ]
    },
    {
      "cell_type": "markdown",
      "metadata": {
        "id": "ykNmu_WWGc3T"
      },
      "source": [
        "## Create, Compile, and Train the Model"
      ]
    },
    {
      "cell_type": "code",
      "execution_count": 56,
      "metadata": {
        "id": "WUptZqmSGc3T"
      },
      "outputs": [],
      "source": [
        "# Create a OneHotEncoder for the Attrition column\n",
        "att_OHE = OneHotEncoder(sparse_output=False)\n",
        "\n",
        "# Fit the encoder to the training data\n",
        "att_OHE.fit(y_train[['Attrition']])\n",
        "\n",
        "# Create two new variables by applying the encoder\n",
        "# to the training and testing data\n",
        "y_train_att_encoded = att_OHE.transform(y_train[['Attrition']])\n",
        "y_test_att_encoded = att_OHE.transform(y_test[['Attrition']])\n"
      ]
    },
    {
      "cell_type": "code",
      "execution_count": 57,
      "metadata": {
        "id": "JukjTm2yTEqd"
      },
      "outputs": [],
      "source": [
        "# Find the number of columns in the X training data\n",
        "num_col = X_train_scaled.shape[1]\n",
        "\n",
        "# Create the input layer\n",
        "input_layer = layers.Input(shape=(num_col,))\n",
        "\n",
        "# Create at least two shared layers\n",
        "shared_layer1 = layers.Dense(64, activation='relu')(input_layer)\n",
        "shared_layer2 = layers.Dense(32, activation='relu')(shared_layer1)\n",
        "\n"
      ]
    },
    {
      "cell_type": "code",
      "execution_count": 58,
      "metadata": {},
      "outputs": [],
      "source": [
        "# Create a branch for Department\n",
        "# Hidden layer\n",
        "dept_hidden_layer = layers.Dense(16, activation='relu', name='dept_hidden_layer')(shared_layer2)\n",
        "\n",
        "# Output layer\n",
        "dept_output_layer = layers.Dense(y_train_encoded.shape[1], activation='sigmoid', name='dept_output_layer')(dept_hidden_layer)\n"
      ]
    },
    {
      "cell_type": "code",
      "execution_count": 66,
      "metadata": {
        "id": "9OqhUiOJUBkR"
      },
      "outputs": [],
      "source": [
        "# Create a branch for Attrition\n",
        "# with a hidden layer and an output layer\n",
        "\n",
        "# Create the hidden layer\n",
        "att_hidden_layer = layers.Dense(16, activation='relu')(shared_layer2)\n",
        "\n",
        "# Create the output layer\n",
        "def new_func(att_hidden_layer):\n",
        "    att_output_layer = layers.Dense(y_train_att_encoded.shape[1], activation='sigmoid', name='att_output')(att_hidden_layer)\n",
        "\n",
        "new_func(att_hidden_layer)\n",
        "\n"
      ]
    },
    {
      "cell_type": "code",
      "execution_count": 67,
      "metadata": {
        "colab": {
          "base_uri": "https://localhost:8080/"
        },
        "id": "twmuejdxGc3T",
        "outputId": "25096308-b68b-42e4-e4ea-ae82e97c435a"
      },
      "outputs": [
        {
          "data": {
            "text/html": [
              "<pre style=\"white-space:pre;overflow-x:auto;line-height:normal;font-family:Menlo,'DejaVu Sans Mono',consolas,'Courier New',monospace\"><span style=\"font-weight: bold\">Model: \"functional_3\"</span>\n",
              "</pre>\n"
            ],
            "text/plain": [
              "\u001b[1mModel: \"functional_3\"\u001b[0m\n"
            ]
          },
          "metadata": {},
          "output_type": "display_data"
        },
        {
          "data": {
            "text/html": [
              "<pre style=\"white-space:pre;overflow-x:auto;line-height:normal;font-family:Menlo,'DejaVu Sans Mono',consolas,'Courier New',monospace\">┏━━━━━━━━━━━━━━━━━━━━━┳━━━━━━━━━━━━━━━━━━━┳━━━━━━━━━━━━┳━━━━━━━━━━━━━━━━━━━┓\n",
              "┃<span style=\"font-weight: bold\"> Layer (type)        </span>┃<span style=\"font-weight: bold\"> Output Shape      </span>┃<span style=\"font-weight: bold\">    Param # </span>┃<span style=\"font-weight: bold\"> Connected to      </span>┃\n",
              "┡━━━━━━━━━━━━━━━━━━━━━╇━━━━━━━━━━━━━━━━━━━╇━━━━━━━━━━━━╇━━━━━━━━━━━━━━━━━━━┩\n",
              "│ input_layer_1       │ (<span style=\"color: #00d7ff; text-decoration-color: #00d7ff\">None</span>, <span style=\"color: #00af00; text-decoration-color: #00af00\">22</span>)        │          <span style=\"color: #00af00; text-decoration-color: #00af00\">0</span> │ -                 │\n",
              "│ (<span style=\"color: #0087ff; text-decoration-color: #0087ff\">InputLayer</span>)        │                   │            │                   │\n",
              "├─────────────────────┼───────────────────┼────────────┼───────────────────┤\n",
              "│ dense_3 (<span style=\"color: #0087ff; text-decoration-color: #0087ff\">Dense</span>)     │ (<span style=\"color: #00d7ff; text-decoration-color: #00d7ff\">None</span>, <span style=\"color: #00af00; text-decoration-color: #00af00\">64</span>)        │      <span style=\"color: #00af00; text-decoration-color: #00af00\">1,472</span> │ input_layer_1[<span style=\"color: #00af00; text-decoration-color: #00af00\">0</span>]… │\n",
              "├─────────────────────┼───────────────────┼────────────┼───────────────────┤\n",
              "│ dense_4 (<span style=\"color: #0087ff; text-decoration-color: #0087ff\">Dense</span>)     │ (<span style=\"color: #00d7ff; text-decoration-color: #00d7ff\">None</span>, <span style=\"color: #00af00; text-decoration-color: #00af00\">32</span>)        │      <span style=\"color: #00af00; text-decoration-color: #00af00\">2,080</span> │ dense_3[<span style=\"color: #00af00; text-decoration-color: #00af00\">0</span>][<span style=\"color: #00af00; text-decoration-color: #00af00\">0</span>]     │\n",
              "├─────────────────────┼───────────────────┼────────────┼───────────────────┤\n",
              "│ dept_hidden_layer   │ (<span style=\"color: #00d7ff; text-decoration-color: #00d7ff\">None</span>, <span style=\"color: #00af00; text-decoration-color: #00af00\">16</span>)        │        <span style=\"color: #00af00; text-decoration-color: #00af00\">528</span> │ dense_4[<span style=\"color: #00af00; text-decoration-color: #00af00\">0</span>][<span style=\"color: #00af00; text-decoration-color: #00af00\">0</span>]     │\n",
              "│ (<span style=\"color: #0087ff; text-decoration-color: #0087ff\">Dense</span>)             │                   │            │                   │\n",
              "├─────────────────────┼───────────────────┼────────────┼───────────────────┤\n",
              "│ dense_5 (<span style=\"color: #0087ff; text-decoration-color: #0087ff\">Dense</span>)     │ (<span style=\"color: #00d7ff; text-decoration-color: #00d7ff\">None</span>, <span style=\"color: #00af00; text-decoration-color: #00af00\">16</span>)        │        <span style=\"color: #00af00; text-decoration-color: #00af00\">528</span> │ dense_4[<span style=\"color: #00af00; text-decoration-color: #00af00\">0</span>][<span style=\"color: #00af00; text-decoration-color: #00af00\">0</span>]     │\n",
              "├─────────────────────┼───────────────────┼────────────┼───────────────────┤\n",
              "│ dept_output_layer   │ (<span style=\"color: #00d7ff; text-decoration-color: #00d7ff\">None</span>, <span style=\"color: #00af00; text-decoration-color: #00af00\">3</span>)         │         <span style=\"color: #00af00; text-decoration-color: #00af00\">51</span> │ dept_hidden_laye… │\n",
              "│ (<span style=\"color: #0087ff; text-decoration-color: #0087ff\">Dense</span>)             │                   │            │                   │\n",
              "├─────────────────────┼───────────────────┼────────────┼───────────────────┤\n",
              "│ att_output (<span style=\"color: #0087ff; text-decoration-color: #0087ff\">Dense</span>)  │ (<span style=\"color: #00d7ff; text-decoration-color: #00d7ff\">None</span>, <span style=\"color: #00af00; text-decoration-color: #00af00\">2</span>)         │         <span style=\"color: #00af00; text-decoration-color: #00af00\">34</span> │ dense_5[<span style=\"color: #00af00; text-decoration-color: #00af00\">0</span>][<span style=\"color: #00af00; text-decoration-color: #00af00\">0</span>]     │\n",
              "└─────────────────────┴───────────────────┴────────────┴───────────────────┘\n",
              "</pre>\n"
            ],
            "text/plain": [
              "┏━━━━━━━━━━━━━━━━━━━━━┳━━━━━━━━━━━━━━━━━━━┳━━━━━━━━━━━━┳━━━━━━━━━━━━━━━━━━━┓\n",
              "┃\u001b[1m \u001b[0m\u001b[1mLayer (type)       \u001b[0m\u001b[1m \u001b[0m┃\u001b[1m \u001b[0m\u001b[1mOutput Shape     \u001b[0m\u001b[1m \u001b[0m┃\u001b[1m \u001b[0m\u001b[1m   Param #\u001b[0m\u001b[1m \u001b[0m┃\u001b[1m \u001b[0m\u001b[1mConnected to     \u001b[0m\u001b[1m \u001b[0m┃\n",
              "┡━━━━━━━━━━━━━━━━━━━━━╇━━━━━━━━━━━━━━━━━━━╇━━━━━━━━━━━━╇━━━━━━━━━━━━━━━━━━━┩\n",
              "│ input_layer_1       │ (\u001b[38;5;45mNone\u001b[0m, \u001b[38;5;34m22\u001b[0m)        │          \u001b[38;5;34m0\u001b[0m │ -                 │\n",
              "│ (\u001b[38;5;33mInputLayer\u001b[0m)        │                   │            │                   │\n",
              "├─────────────────────┼───────────────────┼────────────┼───────────────────┤\n",
              "│ dense_3 (\u001b[38;5;33mDense\u001b[0m)     │ (\u001b[38;5;45mNone\u001b[0m, \u001b[38;5;34m64\u001b[0m)        │      \u001b[38;5;34m1,472\u001b[0m │ input_layer_1[\u001b[38;5;34m0\u001b[0m]… │\n",
              "├─────────────────────┼───────────────────┼────────────┼───────────────────┤\n",
              "│ dense_4 (\u001b[38;5;33mDense\u001b[0m)     │ (\u001b[38;5;45mNone\u001b[0m, \u001b[38;5;34m32\u001b[0m)        │      \u001b[38;5;34m2,080\u001b[0m │ dense_3[\u001b[38;5;34m0\u001b[0m][\u001b[38;5;34m0\u001b[0m]     │\n",
              "├─────────────────────┼───────────────────┼────────────┼───────────────────┤\n",
              "│ dept_hidden_layer   │ (\u001b[38;5;45mNone\u001b[0m, \u001b[38;5;34m16\u001b[0m)        │        \u001b[38;5;34m528\u001b[0m │ dense_4[\u001b[38;5;34m0\u001b[0m][\u001b[38;5;34m0\u001b[0m]     │\n",
              "│ (\u001b[38;5;33mDense\u001b[0m)             │                   │            │                   │\n",
              "├─────────────────────┼───────────────────┼────────────┼───────────────────┤\n",
              "│ dense_5 (\u001b[38;5;33mDense\u001b[0m)     │ (\u001b[38;5;45mNone\u001b[0m, \u001b[38;5;34m16\u001b[0m)        │        \u001b[38;5;34m528\u001b[0m │ dense_4[\u001b[38;5;34m0\u001b[0m][\u001b[38;5;34m0\u001b[0m]     │\n",
              "├─────────────────────┼───────────────────┼────────────┼───────────────────┤\n",
              "│ dept_output_layer   │ (\u001b[38;5;45mNone\u001b[0m, \u001b[38;5;34m3\u001b[0m)         │         \u001b[38;5;34m51\u001b[0m │ dept_hidden_laye… │\n",
              "│ (\u001b[38;5;33mDense\u001b[0m)             │                   │            │                   │\n",
              "├─────────────────────┼───────────────────┼────────────┼───────────────────┤\n",
              "│ att_output (\u001b[38;5;33mDense\u001b[0m)  │ (\u001b[38;5;45mNone\u001b[0m, \u001b[38;5;34m2\u001b[0m)         │         \u001b[38;5;34m34\u001b[0m │ dense_5[\u001b[38;5;34m0\u001b[0m][\u001b[38;5;34m0\u001b[0m]     │\n",
              "└─────────────────────┴───────────────────┴────────────┴───────────────────┘\n"
            ]
          },
          "metadata": {},
          "output_type": "display_data"
        },
        {
          "data": {
            "text/html": [
              "<pre style=\"white-space:pre;overflow-x:auto;line-height:normal;font-family:Menlo,'DejaVu Sans Mono',consolas,'Courier New',monospace\"><span style=\"font-weight: bold\"> Total params: </span><span style=\"color: #00af00; text-decoration-color: #00af00\">4,693</span> (18.33 KB)\n",
              "</pre>\n"
            ],
            "text/plain": [
              "\u001b[1m Total params: \u001b[0m\u001b[38;5;34m4,693\u001b[0m (18.33 KB)\n"
            ]
          },
          "metadata": {},
          "output_type": "display_data"
        },
        {
          "data": {
            "text/html": [
              "<pre style=\"white-space:pre;overflow-x:auto;line-height:normal;font-family:Menlo,'DejaVu Sans Mono',consolas,'Courier New',monospace\"><span style=\"font-weight: bold\"> Trainable params: </span><span style=\"color: #00af00; text-decoration-color: #00af00\">4,693</span> (18.33 KB)\n",
              "</pre>\n"
            ],
            "text/plain": [
              "\u001b[1m Trainable params: \u001b[0m\u001b[38;5;34m4,693\u001b[0m (18.33 KB)\n"
            ]
          },
          "metadata": {},
          "output_type": "display_data"
        },
        {
          "data": {
            "text/html": [
              "<pre style=\"white-space:pre;overflow-x:auto;line-height:normal;font-family:Menlo,'DejaVu Sans Mono',consolas,'Courier New',monospace\"><span style=\"font-weight: bold\"> Non-trainable params: </span><span style=\"color: #00af00; text-decoration-color: #00af00\">0</span> (0.00 B)\n",
              "</pre>\n"
            ],
            "text/plain": [
              "\u001b[1m Non-trainable params: \u001b[0m\u001b[38;5;34m0\u001b[0m (0.00 B)\n"
            ]
          },
          "metadata": {},
          "output_type": "display_data"
        }
      ],
      "source": [
        "# Create the model\n",
        "model = Model(inputs=input_layer, outputs=[dept_output_layer, att_output_layer]) \n",
        "\n",
        "# Compile the model\n",
        "model.compile(optimizer='adam',\n",
        "              loss={'dept_output_layer': 'categorical_crossentropy', 'att_output': 'categorical_crossentropy'},\n",
        "              metrics={'dept_output_layer': 'accuracy', 'att_output': 'accuracy'})\n",
        "\n",
        "# Summarize the model\n",
        "model.summary()\n"
      ]
    },
    {
      "cell_type": "code",
      "execution_count": 63,
      "metadata": {
        "colab": {
          "base_uri": "https://localhost:8080/"
        },
        "id": "c8oGy0dpGc3U",
        "outputId": "cc667d43-28cf-42d4-d719-c2bc02888d30"
      },
      "outputs": [
        {
          "name": "stdout",
          "output_type": "stream",
          "text": [
            "Epoch 1/100\n",
            "\u001b[1m37/37\u001b[0m \u001b[32m━━━━━━━━━━━━━━━━━━━━\u001b[0m\u001b[37m\u001b[0m \u001b[1m2s\u001b[0m 8ms/step - att_output_accuracy: 0.5462 - dept_output_layer_accuracy: 0.5704 - loss: 1.6776 - val_att_output_accuracy: 0.8673 - val_dept_output_layer_accuracy: 0.8912 - val_loss: 0.9405\n",
            "Epoch 2/100\n",
            "\u001b[1m37/37\u001b[0m \u001b[32m━━━━━━━━━━━━━━━━━━━━\u001b[0m\u001b[37m\u001b[0m \u001b[1m0s\u001b[0m 1ms/step - att_output_accuracy: 0.8326 - dept_output_layer_accuracy: 0.9024 - loss: 0.8371 - val_att_output_accuracy: 0.8673 - val_dept_output_layer_accuracy: 0.9898 - val_loss: 0.4882\n",
            "Epoch 3/100\n",
            "\u001b[1m37/37\u001b[0m \u001b[32m━━━━━━━━━━━━━━━━━━━━\u001b[0m\u001b[37m\u001b[0m \u001b[1m0s\u001b[0m 1ms/step - att_output_accuracy: 0.8443 - dept_output_layer_accuracy: 0.9942 - loss: 0.4803 - val_att_output_accuracy: 0.8673 - val_dept_output_layer_accuracy: 0.9932 - val_loss: 0.4083\n",
            "Epoch 4/100\n",
            "\u001b[1m37/37\u001b[0m \u001b[32m━━━━━━━━━━━━━━━━━━━━\u001b[0m\u001b[37m\u001b[0m \u001b[1m0s\u001b[0m 1ms/step - att_output_accuracy: 0.8439 - dept_output_layer_accuracy: 0.9966 - loss: 0.4000 - val_att_output_accuracy: 0.8707 - val_dept_output_layer_accuracy: 1.0000 - val_loss: 0.3916\n",
            "Epoch 5/100\n",
            "\u001b[1m37/37\u001b[0m \u001b[32m━━━━━━━━━━━━━━━━━━━━\u001b[0m\u001b[37m\u001b[0m \u001b[1m0s\u001b[0m 1ms/step - att_output_accuracy: 0.8310 - dept_output_layer_accuracy: 1.0000 - loss: 0.4069 - val_att_output_accuracy: 0.8673 - val_dept_output_layer_accuracy: 1.0000 - val_loss: 0.3811\n",
            "Epoch 6/100\n",
            "\u001b[1m37/37\u001b[0m \u001b[32m━━━━━━━━━━━━━━━━━━━━\u001b[0m\u001b[37m\u001b[0m \u001b[1m0s\u001b[0m 1ms/step - att_output_accuracy: 0.8311 - dept_output_layer_accuracy: 1.0000 - loss: 0.4041 - val_att_output_accuracy: 0.8707 - val_dept_output_layer_accuracy: 1.0000 - val_loss: 0.3783\n",
            "Epoch 7/100\n",
            "\u001b[1m37/37\u001b[0m \u001b[32m━━━━━━━━━━━━━━━━━━━━\u001b[0m\u001b[37m\u001b[0m \u001b[1m0s\u001b[0m 2ms/step - att_output_accuracy: 0.8441 - dept_output_layer_accuracy: 1.0000 - loss: 0.3771 - val_att_output_accuracy: 0.8707 - val_dept_output_layer_accuracy: 1.0000 - val_loss: 0.3770\n",
            "Epoch 8/100\n",
            "\u001b[1m37/37\u001b[0m \u001b[32m━━━━━━━━━━━━━━━━━━━━\u001b[0m\u001b[37m\u001b[0m \u001b[1m0s\u001b[0m 1ms/step - att_output_accuracy: 0.8347 - dept_output_layer_accuracy: 1.0000 - loss: 0.3926 - val_att_output_accuracy: 0.8673 - val_dept_output_layer_accuracy: 1.0000 - val_loss: 0.3724\n",
            "Epoch 9/100\n",
            "\u001b[1m37/37\u001b[0m \u001b[32m━━━━━━━━━━━━━━━━━━━━\u001b[0m\u001b[37m\u001b[0m \u001b[1m0s\u001b[0m 1ms/step - att_output_accuracy: 0.8339 - dept_output_layer_accuracy: 1.0000 - loss: 0.3836 - val_att_output_accuracy: 0.8571 - val_dept_output_layer_accuracy: 1.0000 - val_loss: 0.3747\n",
            "Epoch 10/100\n",
            "\u001b[1m37/37\u001b[0m \u001b[32m━━━━━━━━━━━━━━━━━━━━\u001b[0m\u001b[37m\u001b[0m \u001b[1m0s\u001b[0m 3ms/step - att_output_accuracy: 0.8508 - dept_output_layer_accuracy: 1.0000 - loss: 0.3657 - val_att_output_accuracy: 0.8639 - val_dept_output_layer_accuracy: 1.0000 - val_loss: 0.3717\n",
            "Epoch 11/100\n",
            "\u001b[1m37/37\u001b[0m \u001b[32m━━━━━━━━━━━━━━━━━━━━\u001b[0m\u001b[37m\u001b[0m \u001b[1m0s\u001b[0m 2ms/step - att_output_accuracy: 0.8584 - dept_output_layer_accuracy: 1.0000 - loss: 0.3538 - val_att_output_accuracy: 0.8571 - val_dept_output_layer_accuracy: 1.0000 - val_loss: 0.3766\n",
            "Epoch 12/100\n",
            "\u001b[1m37/37\u001b[0m \u001b[32m━━━━━━━━━━━━━━━━━━━━\u001b[0m\u001b[37m\u001b[0m \u001b[1m0s\u001b[0m 2ms/step - att_output_accuracy: 0.8467 - dept_output_layer_accuracy: 1.0000 - loss: 0.3729 - val_att_output_accuracy: 0.8571 - val_dept_output_layer_accuracy: 1.0000 - val_loss: 0.3749\n",
            "Epoch 13/100\n",
            "\u001b[1m37/37\u001b[0m \u001b[32m━━━━━━━━━━━━━━━━━━━━\u001b[0m\u001b[37m\u001b[0m \u001b[1m0s\u001b[0m 2ms/step - att_output_accuracy: 0.8591 - dept_output_layer_accuracy: 1.0000 - loss: 0.3521 - val_att_output_accuracy: 0.8537 - val_dept_output_layer_accuracy: 1.0000 - val_loss: 0.3771\n",
            "Epoch 14/100\n",
            "\u001b[1m37/37\u001b[0m \u001b[32m━━━━━━━━━━━━━━━━━━━━\u001b[0m\u001b[37m\u001b[0m \u001b[1m0s\u001b[0m 2ms/step - att_output_accuracy: 0.8677 - dept_output_layer_accuracy: 1.0000 - loss: 0.3384 - val_att_output_accuracy: 0.8537 - val_dept_output_layer_accuracy: 1.0000 - val_loss: 0.3785\n",
            "Epoch 15/100\n",
            "\u001b[1m37/37\u001b[0m \u001b[32m━━━━━━━━━━━━━━━━━━━━\u001b[0m\u001b[37m\u001b[0m \u001b[1m0s\u001b[0m 1ms/step - att_output_accuracy: 0.8507 - dept_output_layer_accuracy: 1.0000 - loss: 0.3693 - val_att_output_accuracy: 0.8571 - val_dept_output_layer_accuracy: 1.0000 - val_loss: 0.3823\n",
            "Epoch 16/100\n",
            "\u001b[1m37/37\u001b[0m \u001b[32m━━━━━━━━━━━━━━━━━━━━\u001b[0m\u001b[37m\u001b[0m \u001b[1m0s\u001b[0m 1ms/step - att_output_accuracy: 0.8588 - dept_output_layer_accuracy: 1.0000 - loss: 0.3399 - val_att_output_accuracy: 0.8401 - val_dept_output_layer_accuracy: 1.0000 - val_loss: 0.3855\n",
            "Epoch 17/100\n",
            "\u001b[1m37/37\u001b[0m \u001b[32m━━━━━━━━━━━━━━━━━━━━\u001b[0m\u001b[37m\u001b[0m \u001b[1m0s\u001b[0m 1ms/step - att_output_accuracy: 0.8574 - dept_output_layer_accuracy: 1.0000 - loss: 0.3401 - val_att_output_accuracy: 0.8537 - val_dept_output_layer_accuracy: 1.0000 - val_loss: 0.3818\n",
            "Epoch 18/100\n",
            "\u001b[1m37/37\u001b[0m \u001b[32m━━━━━━━━━━━━━━━━━━━━\u001b[0m\u001b[37m\u001b[0m \u001b[1m0s\u001b[0m 1ms/step - att_output_accuracy: 0.8597 - dept_output_layer_accuracy: 1.0000 - loss: 0.3168 - val_att_output_accuracy: 0.8435 - val_dept_output_layer_accuracy: 1.0000 - val_loss: 0.3970\n",
            "Epoch 19/100\n",
            "\u001b[1m37/37\u001b[0m \u001b[32m━━━━━━━━━━━━━━━━━━━━\u001b[0m\u001b[37m\u001b[0m \u001b[1m0s\u001b[0m 2ms/step - att_output_accuracy: 0.8713 - dept_output_layer_accuracy: 1.0000 - loss: 0.3081 - val_att_output_accuracy: 0.8469 - val_dept_output_layer_accuracy: 1.0000 - val_loss: 0.3927\n",
            "Epoch 20/100\n",
            "\u001b[1m37/37\u001b[0m \u001b[32m━━━━━━━━━━━━━━━━━━━━\u001b[0m\u001b[37m\u001b[0m \u001b[1m0s\u001b[0m 2ms/step - att_output_accuracy: 0.8687 - dept_output_layer_accuracy: 1.0000 - loss: 0.3297 - val_att_output_accuracy: 0.8571 - val_dept_output_layer_accuracy: 1.0000 - val_loss: 0.3931\n",
            "Epoch 21/100\n",
            "\u001b[1m37/37\u001b[0m \u001b[32m━━━━━━━━━━━━━━━━━━━━\u001b[0m\u001b[37m\u001b[0m \u001b[1m0s\u001b[0m 1ms/step - att_output_accuracy: 0.8606 - dept_output_layer_accuracy: 1.0000 - loss: 0.3262 - val_att_output_accuracy: 0.8469 - val_dept_output_layer_accuracy: 1.0000 - val_loss: 0.3949\n",
            "Epoch 22/100\n",
            "\u001b[1m37/37\u001b[0m \u001b[32m━━━━━━━━━━━━━━━━━━━━\u001b[0m\u001b[37m\u001b[0m \u001b[1m0s\u001b[0m 2ms/step - att_output_accuracy: 0.8687 - dept_output_layer_accuracy: 1.0000 - loss: 0.2952 - val_att_output_accuracy: 0.8469 - val_dept_output_layer_accuracy: 1.0000 - val_loss: 0.3986\n",
            "Epoch 23/100\n",
            "\u001b[1m37/37\u001b[0m \u001b[32m━━━━━━━━━━━━━━━━━━━━\u001b[0m\u001b[37m\u001b[0m \u001b[1m0s\u001b[0m 2ms/step - att_output_accuracy: 0.8781 - dept_output_layer_accuracy: 1.0000 - loss: 0.2781 - val_att_output_accuracy: 0.8401 - val_dept_output_layer_accuracy: 1.0000 - val_loss: 0.4097\n",
            "Epoch 24/100\n",
            "\u001b[1m37/37\u001b[0m \u001b[32m━━━━━━━━━━━━━━━━━━━━\u001b[0m\u001b[37m\u001b[0m \u001b[1m0s\u001b[0m 1ms/step - att_output_accuracy: 0.8802 - dept_output_layer_accuracy: 1.0000 - loss: 0.2938 - val_att_output_accuracy: 0.8333 - val_dept_output_layer_accuracy: 1.0000 - val_loss: 0.4154\n",
            "Epoch 25/100\n",
            "\u001b[1m37/37\u001b[0m \u001b[32m━━━━━━━━━━━━━━━━━━━━\u001b[0m\u001b[37m\u001b[0m \u001b[1m0s\u001b[0m 2ms/step - att_output_accuracy: 0.8494 - dept_output_layer_accuracy: 1.0000 - loss: 0.3185 - val_att_output_accuracy: 0.8469 - val_dept_output_layer_accuracy: 1.0000 - val_loss: 0.4085\n",
            "Epoch 26/100\n",
            "\u001b[1m37/37\u001b[0m \u001b[32m━━━━━━━━━━━━━━━━━━━━\u001b[0m\u001b[37m\u001b[0m \u001b[1m0s\u001b[0m 2ms/step - att_output_accuracy: 0.8731 - dept_output_layer_accuracy: 1.0000 - loss: 0.3030 - val_att_output_accuracy: 0.8401 - val_dept_output_layer_accuracy: 1.0000 - val_loss: 0.4186\n",
            "Epoch 27/100\n",
            "\u001b[1m37/37\u001b[0m \u001b[32m━━━━━━━━━━━━━━━━━━━━\u001b[0m\u001b[37m\u001b[0m \u001b[1m0s\u001b[0m 2ms/step - att_output_accuracy: 0.8710 - dept_output_layer_accuracy: 1.0000 - loss: 0.2943 - val_att_output_accuracy: 0.8163 - val_dept_output_layer_accuracy: 1.0000 - val_loss: 0.4264\n",
            "Epoch 28/100\n",
            "\u001b[1m37/37\u001b[0m \u001b[32m━━━━━━━━━━━━━━━━━━━━\u001b[0m\u001b[37m\u001b[0m \u001b[1m0s\u001b[0m 2ms/step - att_output_accuracy: 0.8717 - dept_output_layer_accuracy: 1.0000 - loss: 0.2870 - val_att_output_accuracy: 0.8265 - val_dept_output_layer_accuracy: 1.0000 - val_loss: 0.4356\n",
            "Epoch 29/100\n",
            "\u001b[1m37/37\u001b[0m \u001b[32m━━━━━━━━━━━━━━━━━━━━\u001b[0m\u001b[37m\u001b[0m \u001b[1m0s\u001b[0m 4ms/step - att_output_accuracy: 0.8826 - dept_output_layer_accuracy: 1.0000 - loss: 0.2925 - val_att_output_accuracy: 0.8027 - val_dept_output_layer_accuracy: 1.0000 - val_loss: 0.4572\n",
            "Epoch 30/100\n",
            "\u001b[1m37/37\u001b[0m \u001b[32m━━━━━━━━━━━━━━━━━━━━\u001b[0m\u001b[37m\u001b[0m \u001b[1m0s\u001b[0m 2ms/step - att_output_accuracy: 0.8828 - dept_output_layer_accuracy: 1.0000 - loss: 0.2818 - val_att_output_accuracy: 0.8197 - val_dept_output_layer_accuracy: 1.0000 - val_loss: 0.4367\n",
            "Epoch 31/100\n",
            "\u001b[1m37/37\u001b[0m \u001b[32m━━━━━━━━━━━━━━━━━━━━\u001b[0m\u001b[37m\u001b[0m \u001b[1m0s\u001b[0m 2ms/step - att_output_accuracy: 0.8844 - dept_output_layer_accuracy: 1.0000 - loss: 0.2673 - val_att_output_accuracy: 0.8061 - val_dept_output_layer_accuracy: 1.0000 - val_loss: 0.4573\n",
            "Epoch 32/100\n",
            "\u001b[1m37/37\u001b[0m \u001b[32m━━━━━━━━━━━━━━━━━━━━\u001b[0m\u001b[37m\u001b[0m \u001b[1m0s\u001b[0m 2ms/step - att_output_accuracy: 0.8844 - dept_output_layer_accuracy: 1.0000 - loss: 0.2866 - val_att_output_accuracy: 0.8197 - val_dept_output_layer_accuracy: 1.0000 - val_loss: 0.4505\n",
            "Epoch 33/100\n",
            "\u001b[1m37/37\u001b[0m \u001b[32m━━━━━━━━━━━━━━━━━━━━\u001b[0m\u001b[37m\u001b[0m \u001b[1m0s\u001b[0m 2ms/step - att_output_accuracy: 0.8988 - dept_output_layer_accuracy: 1.0000 - loss: 0.2422 - val_att_output_accuracy: 0.8367 - val_dept_output_layer_accuracy: 1.0000 - val_loss: 0.4444\n",
            "Epoch 34/100\n",
            "\u001b[1m37/37\u001b[0m \u001b[32m━━━━━━━━━━━━━━━━━━━━\u001b[0m\u001b[37m\u001b[0m \u001b[1m0s\u001b[0m 2ms/step - att_output_accuracy: 0.8959 - dept_output_layer_accuracy: 1.0000 - loss: 0.2616 - val_att_output_accuracy: 0.8435 - val_dept_output_layer_accuracy: 1.0000 - val_loss: 0.4635\n",
            "Epoch 35/100\n",
            "\u001b[1m37/37\u001b[0m \u001b[32m━━━━━━━━━━━━━━━━━━━━\u001b[0m\u001b[37m\u001b[0m \u001b[1m0s\u001b[0m 1ms/step - att_output_accuracy: 0.8955 - dept_output_layer_accuracy: 1.0000 - loss: 0.2388 - val_att_output_accuracy: 0.8435 - val_dept_output_layer_accuracy: 1.0000 - val_loss: 0.4524\n",
            "Epoch 36/100\n",
            "\u001b[1m37/37\u001b[0m \u001b[32m━━━━━━━━━━━━━━━━━━━━\u001b[0m\u001b[37m\u001b[0m \u001b[1m0s\u001b[0m 1ms/step - att_output_accuracy: 0.9075 - dept_output_layer_accuracy: 1.0000 - loss: 0.2380 - val_att_output_accuracy: 0.8367 - val_dept_output_layer_accuracy: 1.0000 - val_loss: 0.4615\n",
            "Epoch 37/100\n",
            "\u001b[1m37/37\u001b[0m \u001b[32m━━━━━━━━━━━━━━━━━━━━\u001b[0m\u001b[37m\u001b[0m \u001b[1m0s\u001b[0m 1ms/step - att_output_accuracy: 0.8864 - dept_output_layer_accuracy: 1.0000 - loss: 0.2519 - val_att_output_accuracy: 0.8129 - val_dept_output_layer_accuracy: 1.0000 - val_loss: 0.4769\n",
            "Epoch 38/100\n",
            "\u001b[1m37/37\u001b[0m \u001b[32m━━━━━━━━━━━━━━━━━━━━\u001b[0m\u001b[37m\u001b[0m \u001b[1m0s\u001b[0m 1ms/step - att_output_accuracy: 0.9135 - dept_output_layer_accuracy: 1.0000 - loss: 0.2401 - val_att_output_accuracy: 0.8333 - val_dept_output_layer_accuracy: 1.0000 - val_loss: 0.4746\n",
            "Epoch 39/100\n",
            "\u001b[1m37/37\u001b[0m \u001b[32m━━━━━━━━━━━━━━━━━━━━\u001b[0m\u001b[37m\u001b[0m \u001b[1m0s\u001b[0m 1ms/step - att_output_accuracy: 0.9001 - dept_output_layer_accuracy: 1.0000 - loss: 0.2416 - val_att_output_accuracy: 0.8299 - val_dept_output_layer_accuracy: 1.0000 - val_loss: 0.4866\n",
            "Epoch 40/100\n",
            "\u001b[1m37/37\u001b[0m \u001b[32m━━━━━━━━━━━━━━━━━━━━\u001b[0m\u001b[37m\u001b[0m \u001b[1m0s\u001b[0m 1ms/step - att_output_accuracy: 0.9049 - dept_output_layer_accuracy: 1.0000 - loss: 0.2303 - val_att_output_accuracy: 0.8231 - val_dept_output_layer_accuracy: 1.0000 - val_loss: 0.4896\n",
            "Epoch 41/100\n",
            "\u001b[1m37/37\u001b[0m \u001b[32m━━━━━━━━━━━━━━━━━━━━\u001b[0m\u001b[37m\u001b[0m \u001b[1m0s\u001b[0m 1ms/step - att_output_accuracy: 0.9174 - dept_output_layer_accuracy: 1.0000 - loss: 0.2071 - val_att_output_accuracy: 0.8197 - val_dept_output_layer_accuracy: 1.0000 - val_loss: 0.4934\n",
            "Epoch 42/100\n",
            "\u001b[1m37/37\u001b[0m \u001b[32m━━━━━━━━━━━━━━━━━━━━\u001b[0m\u001b[37m\u001b[0m \u001b[1m0s\u001b[0m 1ms/step - att_output_accuracy: 0.9127 - dept_output_layer_accuracy: 1.0000 - loss: 0.2174 - val_att_output_accuracy: 0.7857 - val_dept_output_layer_accuracy: 1.0000 - val_loss: 0.5347\n",
            "Epoch 43/100\n",
            "\u001b[1m37/37\u001b[0m \u001b[32m━━━━━━━━━━━━━━━━━━━━\u001b[0m\u001b[37m\u001b[0m \u001b[1m0s\u001b[0m 2ms/step - att_output_accuracy: 0.9121 - dept_output_layer_accuracy: 1.0000 - loss: 0.2268 - val_att_output_accuracy: 0.8299 - val_dept_output_layer_accuracy: 1.0000 - val_loss: 0.4989\n",
            "Epoch 44/100\n",
            "\u001b[1m37/37\u001b[0m \u001b[32m━━━━━━━━━━━━━━━━━━━━\u001b[0m\u001b[37m\u001b[0m \u001b[1m0s\u001b[0m 2ms/step - att_output_accuracy: 0.9171 - dept_output_layer_accuracy: 1.0000 - loss: 0.2085 - val_att_output_accuracy: 0.8129 - val_dept_output_layer_accuracy: 1.0000 - val_loss: 0.5171\n",
            "Epoch 45/100\n",
            "\u001b[1m37/37\u001b[0m \u001b[32m━━━━━━━━━━━━━━━━━━━━\u001b[0m\u001b[37m\u001b[0m \u001b[1m0s\u001b[0m 1ms/step - att_output_accuracy: 0.9174 - dept_output_layer_accuracy: 1.0000 - loss: 0.1980 - val_att_output_accuracy: 0.8061 - val_dept_output_layer_accuracy: 1.0000 - val_loss: 0.5221\n",
            "Epoch 46/100\n",
            "\u001b[1m37/37\u001b[0m \u001b[32m━━━━━━━━━━━━━━━━━━━━\u001b[0m\u001b[37m\u001b[0m \u001b[1m0s\u001b[0m 1ms/step - att_output_accuracy: 0.9360 - dept_output_layer_accuracy: 1.0000 - loss: 0.1910 - val_att_output_accuracy: 0.8027 - val_dept_output_layer_accuracy: 1.0000 - val_loss: 0.5373\n",
            "Epoch 47/100\n",
            "\u001b[1m37/37\u001b[0m \u001b[32m━━━━━━━━━━━━━━━━━━━━\u001b[0m\u001b[37m\u001b[0m \u001b[1m0s\u001b[0m 1ms/step - att_output_accuracy: 0.9214 - dept_output_layer_accuracy: 1.0000 - loss: 0.1933 - val_att_output_accuracy: 0.8095 - val_dept_output_layer_accuracy: 1.0000 - val_loss: 0.5373\n",
            "Epoch 48/100\n",
            "\u001b[1m37/37\u001b[0m \u001b[32m━━━━━━━━━━━━━━━━━━━━\u001b[0m\u001b[37m\u001b[0m \u001b[1m0s\u001b[0m 1ms/step - att_output_accuracy: 0.9077 - dept_output_layer_accuracy: 1.0000 - loss: 0.1991 - val_att_output_accuracy: 0.8299 - val_dept_output_layer_accuracy: 1.0000 - val_loss: 0.5446\n",
            "Epoch 49/100\n",
            "\u001b[1m37/37\u001b[0m \u001b[32m━━━━━━━━━━━━━━━━━━━━\u001b[0m\u001b[37m\u001b[0m \u001b[1m0s\u001b[0m 1ms/step - att_output_accuracy: 0.9221 - dept_output_layer_accuracy: 1.0000 - loss: 0.1890 - val_att_output_accuracy: 0.7891 - val_dept_output_layer_accuracy: 1.0000 - val_loss: 0.5557\n",
            "Epoch 50/100\n",
            "\u001b[1m37/37\u001b[0m \u001b[32m━━━━━━━━━━━━━━━━━━━━\u001b[0m\u001b[37m\u001b[0m \u001b[1m0s\u001b[0m 1ms/step - att_output_accuracy: 0.9321 - dept_output_layer_accuracy: 1.0000 - loss: 0.1774 - val_att_output_accuracy: 0.8129 - val_dept_output_layer_accuracy: 1.0000 - val_loss: 0.5625\n",
            "Epoch 51/100\n",
            "\u001b[1m37/37\u001b[0m \u001b[32m━━━━━━━━━━━━━━━━━━━━\u001b[0m\u001b[37m\u001b[0m \u001b[1m0s\u001b[0m 2ms/step - att_output_accuracy: 0.9306 - dept_output_layer_accuracy: 1.0000 - loss: 0.1759 - val_att_output_accuracy: 0.8129 - val_dept_output_layer_accuracy: 1.0000 - val_loss: 0.5653\n",
            "Epoch 52/100\n",
            "\u001b[1m37/37\u001b[0m \u001b[32m━━━━━━━━━━━━━━━━━━━━\u001b[0m\u001b[37m\u001b[0m \u001b[1m0s\u001b[0m 2ms/step - att_output_accuracy: 0.9269 - dept_output_layer_accuracy: 1.0000 - loss: 0.1725 - val_att_output_accuracy: 0.8163 - val_dept_output_layer_accuracy: 1.0000 - val_loss: 0.5782\n",
            "Epoch 53/100\n",
            "\u001b[1m37/37\u001b[0m \u001b[32m━━━━━━━━━━━━━━━━━━━━\u001b[0m\u001b[37m\u001b[0m \u001b[1m0s\u001b[0m 2ms/step - att_output_accuracy: 0.9367 - dept_output_layer_accuracy: 1.0000 - loss: 0.1610 - val_att_output_accuracy: 0.7891 - val_dept_output_layer_accuracy: 1.0000 - val_loss: 0.5951\n",
            "Epoch 54/100\n",
            "\u001b[1m37/37\u001b[0m \u001b[32m━━━━━━━━━━━━━━━━━━━━\u001b[0m\u001b[37m\u001b[0m \u001b[1m0s\u001b[0m 1ms/step - att_output_accuracy: 0.9352 - dept_output_layer_accuracy: 1.0000 - loss: 0.1691 - val_att_output_accuracy: 0.8095 - val_dept_output_layer_accuracy: 1.0000 - val_loss: 0.5981\n",
            "Epoch 55/100\n",
            "\u001b[1m37/37\u001b[0m \u001b[32m━━━━━━━━━━━━━━━━━━━━\u001b[0m\u001b[37m\u001b[0m \u001b[1m0s\u001b[0m 2ms/step - att_output_accuracy: 0.9350 - dept_output_layer_accuracy: 1.0000 - loss: 0.1545 - val_att_output_accuracy: 0.8231 - val_dept_output_layer_accuracy: 1.0000 - val_loss: 0.5923\n",
            "Epoch 56/100\n",
            "\u001b[1m37/37\u001b[0m \u001b[32m━━━━━━━━━━━━━━━━━━━━\u001b[0m\u001b[37m\u001b[0m \u001b[1m0s\u001b[0m 2ms/step - att_output_accuracy: 0.9340 - dept_output_layer_accuracy: 1.0000 - loss: 0.1650 - val_att_output_accuracy: 0.8061 - val_dept_output_layer_accuracy: 1.0000 - val_loss: 0.6237\n",
            "Epoch 57/100\n",
            "\u001b[1m37/37\u001b[0m \u001b[32m━━━━━━━━━━━━━━━━━━━━\u001b[0m\u001b[37m\u001b[0m \u001b[1m0s\u001b[0m 2ms/step - att_output_accuracy: 0.9509 - dept_output_layer_accuracy: 1.0000 - loss: 0.1440 - val_att_output_accuracy: 0.8129 - val_dept_output_layer_accuracy: 1.0000 - val_loss: 0.6143\n",
            "Epoch 58/100\n",
            "\u001b[1m37/37\u001b[0m \u001b[32m━━━━━━━━━━━━━━━━━━━━\u001b[0m\u001b[37m\u001b[0m \u001b[1m0s\u001b[0m 2ms/step - att_output_accuracy: 0.9408 - dept_output_layer_accuracy: 1.0000 - loss: 0.1437 - val_att_output_accuracy: 0.8027 - val_dept_output_layer_accuracy: 1.0000 - val_loss: 0.6447\n",
            "Epoch 59/100\n",
            "\u001b[1m37/37\u001b[0m \u001b[32m━━━━━━━━━━━━━━━━━━━━\u001b[0m\u001b[37m\u001b[0m \u001b[1m0s\u001b[0m 2ms/step - att_output_accuracy: 0.9545 - dept_output_layer_accuracy: 1.0000 - loss: 0.1280 - val_att_output_accuracy: 0.8197 - val_dept_output_layer_accuracy: 1.0000 - val_loss: 0.6373\n",
            "Epoch 60/100\n",
            "\u001b[1m37/37\u001b[0m \u001b[32m━━━━━━━━━━━━━━━━━━━━\u001b[0m\u001b[37m\u001b[0m \u001b[1m0s\u001b[0m 2ms/step - att_output_accuracy: 0.9364 - dept_output_layer_accuracy: 1.0000 - loss: 0.1533 - val_att_output_accuracy: 0.7959 - val_dept_output_layer_accuracy: 1.0000 - val_loss: 0.6575\n",
            "Epoch 61/100\n",
            "\u001b[1m37/37\u001b[0m \u001b[32m━━━━━━━━━━━━━━━━━━━━\u001b[0m\u001b[37m\u001b[0m \u001b[1m0s\u001b[0m 2ms/step - att_output_accuracy: 0.9580 - dept_output_layer_accuracy: 1.0000 - loss: 0.1308 - val_att_output_accuracy: 0.8095 - val_dept_output_layer_accuracy: 1.0000 - val_loss: 0.6630\n",
            "Epoch 62/100\n",
            "\u001b[1m37/37\u001b[0m \u001b[32m━━━━━━━━━━━━━━━━━━━━\u001b[0m\u001b[37m\u001b[0m \u001b[1m0s\u001b[0m 1ms/step - att_output_accuracy: 0.9388 - dept_output_layer_accuracy: 1.0000 - loss: 0.1270 - val_att_output_accuracy: 0.8095 - val_dept_output_layer_accuracy: 1.0000 - val_loss: 0.6795\n",
            "Epoch 63/100\n",
            "\u001b[1m37/37\u001b[0m \u001b[32m━━━━━━━━━━━━━━━━━━━━\u001b[0m\u001b[37m\u001b[0m \u001b[1m0s\u001b[0m 2ms/step - att_output_accuracy: 0.9536 - dept_output_layer_accuracy: 1.0000 - loss: 0.1316 - val_att_output_accuracy: 0.7993 - val_dept_output_layer_accuracy: 1.0000 - val_loss: 0.6761\n",
            "Epoch 64/100\n",
            "\u001b[1m37/37\u001b[0m \u001b[32m━━━━━━━━━━━━━━━━━━━━\u001b[0m\u001b[37m\u001b[0m \u001b[1m0s\u001b[0m 2ms/step - att_output_accuracy: 0.9541 - dept_output_layer_accuracy: 1.0000 - loss: 0.1391 - val_att_output_accuracy: 0.8129 - val_dept_output_layer_accuracy: 1.0000 - val_loss: 0.6864\n",
            "Epoch 65/100\n",
            "\u001b[1m37/37\u001b[0m \u001b[32m━━━━━━━━━━━━━━━━━━━━\u001b[0m\u001b[37m\u001b[0m \u001b[1m0s\u001b[0m 2ms/step - att_output_accuracy: 0.9518 - dept_output_layer_accuracy: 1.0000 - loss: 0.1252 - val_att_output_accuracy: 0.8129 - val_dept_output_layer_accuracy: 1.0000 - val_loss: 0.7070\n",
            "Epoch 66/100\n",
            "\u001b[1m37/37\u001b[0m \u001b[32m━━━━━━━━━━━━━━━━━━━━\u001b[0m\u001b[37m\u001b[0m \u001b[1m0s\u001b[0m 2ms/step - att_output_accuracy: 0.9568 - dept_output_layer_accuracy: 1.0000 - loss: 0.1217 - val_att_output_accuracy: 0.8095 - val_dept_output_layer_accuracy: 1.0000 - val_loss: 0.7048\n",
            "Epoch 67/100\n",
            "\u001b[1m37/37\u001b[0m \u001b[32m━━━━━━━━━━━━━━━━━━━━\u001b[0m\u001b[37m\u001b[0m \u001b[1m0s\u001b[0m 2ms/step - att_output_accuracy: 0.9550 - dept_output_layer_accuracy: 1.0000 - loss: 0.1225 - val_att_output_accuracy: 0.8061 - val_dept_output_layer_accuracy: 1.0000 - val_loss: 0.7329\n",
            "Epoch 68/100\n",
            "\u001b[1m37/37\u001b[0m \u001b[32m━━━━━━━━━━━━━━━━━━━━\u001b[0m\u001b[37m\u001b[0m \u001b[1m0s\u001b[0m 2ms/step - att_output_accuracy: 0.9683 - dept_output_layer_accuracy: 1.0000 - loss: 0.1099 - val_att_output_accuracy: 0.7959 - val_dept_output_layer_accuracy: 1.0000 - val_loss: 0.7364\n",
            "Epoch 69/100\n",
            "\u001b[1m37/37\u001b[0m \u001b[32m━━━━━━━━━━━━━━━━━━━━\u001b[0m\u001b[37m\u001b[0m \u001b[1m0s\u001b[0m 2ms/step - att_output_accuracy: 0.9605 - dept_output_layer_accuracy: 1.0000 - loss: 0.1061 - val_att_output_accuracy: 0.8231 - val_dept_output_layer_accuracy: 1.0000 - val_loss: 0.7308\n",
            "Epoch 70/100\n",
            "\u001b[1m37/37\u001b[0m \u001b[32m━━━━━━━━━━━━━━━━━━━━\u001b[0m\u001b[37m\u001b[0m \u001b[1m0s\u001b[0m 1ms/step - att_output_accuracy: 0.9467 - dept_output_layer_accuracy: 1.0000 - loss: 0.1253 - val_att_output_accuracy: 0.7925 - val_dept_output_layer_accuracy: 1.0000 - val_loss: 0.7524\n",
            "Epoch 71/100\n",
            "\u001b[1m37/37\u001b[0m \u001b[32m━━━━━━━━━━━━━━━━━━━━\u001b[0m\u001b[37m\u001b[0m \u001b[1m0s\u001b[0m 1ms/step - att_output_accuracy: 0.9661 - dept_output_layer_accuracy: 1.0000 - loss: 0.1018 - val_att_output_accuracy: 0.8095 - val_dept_output_layer_accuracy: 1.0000 - val_loss: 0.7603\n",
            "Epoch 72/100\n",
            "\u001b[1m37/37\u001b[0m \u001b[32m━━━━━━━━━━━━━━━━━━━━\u001b[0m\u001b[37m\u001b[0m \u001b[1m0s\u001b[0m 2ms/step - att_output_accuracy: 0.9693 - dept_output_layer_accuracy: 1.0000 - loss: 0.0928 - val_att_output_accuracy: 0.8197 - val_dept_output_layer_accuracy: 1.0000 - val_loss: 0.7883\n",
            "Epoch 73/100\n",
            "\u001b[1m37/37\u001b[0m \u001b[32m━━━━━━━━━━━━━━━━━━━━\u001b[0m\u001b[37m\u001b[0m \u001b[1m0s\u001b[0m 1ms/step - att_output_accuracy: 0.9707 - dept_output_layer_accuracy: 1.0000 - loss: 0.0949 - val_att_output_accuracy: 0.8163 - val_dept_output_layer_accuracy: 1.0000 - val_loss: 0.7872\n",
            "Epoch 74/100\n",
            "\u001b[1m37/37\u001b[0m \u001b[32m━━━━━━━━━━━━━━━━━━━━\u001b[0m\u001b[37m\u001b[0m \u001b[1m0s\u001b[0m 2ms/step - att_output_accuracy: 0.9706 - dept_output_layer_accuracy: 1.0000 - loss: 0.1027 - val_att_output_accuracy: 0.8061 - val_dept_output_layer_accuracy: 1.0000 - val_loss: 0.8061\n",
            "Epoch 75/100\n",
            "\u001b[1m37/37\u001b[0m \u001b[32m━━━━━━━━━━━━━━━━━━━━\u001b[0m\u001b[37m\u001b[0m \u001b[1m0s\u001b[0m 1ms/step - att_output_accuracy: 0.9727 - dept_output_layer_accuracy: 1.0000 - loss: 0.1052 - val_att_output_accuracy: 0.8027 - val_dept_output_layer_accuracy: 1.0000 - val_loss: 0.8267\n",
            "Epoch 76/100\n",
            "\u001b[1m37/37\u001b[0m \u001b[32m━━━━━━━━━━━━━━━━━━━━\u001b[0m\u001b[37m\u001b[0m \u001b[1m0s\u001b[0m 1ms/step - att_output_accuracy: 0.9606 - dept_output_layer_accuracy: 1.0000 - loss: 0.1019 - val_att_output_accuracy: 0.8129 - val_dept_output_layer_accuracy: 1.0000 - val_loss: 0.8254\n",
            "Epoch 77/100\n",
            "\u001b[1m37/37\u001b[0m \u001b[32m━━━━━━━━━━━━━━━━━━━━\u001b[0m\u001b[37m\u001b[0m \u001b[1m0s\u001b[0m 1ms/step - att_output_accuracy: 0.9727 - dept_output_layer_accuracy: 1.0000 - loss: 0.1001 - val_att_output_accuracy: 0.7993 - val_dept_output_layer_accuracy: 1.0000 - val_loss: 0.8653\n",
            "Epoch 78/100\n",
            "\u001b[1m37/37\u001b[0m \u001b[32m━━━━━━━━━━━━━━━━━━━━\u001b[0m\u001b[37m\u001b[0m \u001b[1m0s\u001b[0m 1ms/step - att_output_accuracy: 0.9752 - dept_output_layer_accuracy: 1.0000 - loss: 0.0805 - val_att_output_accuracy: 0.8061 - val_dept_output_layer_accuracy: 1.0000 - val_loss: 0.8378\n",
            "Epoch 79/100\n",
            "\u001b[1m37/37\u001b[0m \u001b[32m━━━━━━━━━━━━━━━━━━━━\u001b[0m\u001b[37m\u001b[0m \u001b[1m0s\u001b[0m 2ms/step - att_output_accuracy: 0.9827 - dept_output_layer_accuracy: 1.0000 - loss: 0.0790 - val_att_output_accuracy: 0.7823 - val_dept_output_layer_accuracy: 1.0000 - val_loss: 0.8925\n",
            "Epoch 80/100\n",
            "\u001b[1m37/37\u001b[0m \u001b[32m━━━━━━━━━━━━━━━━━━━━\u001b[0m\u001b[37m\u001b[0m \u001b[1m0s\u001b[0m 2ms/step - att_output_accuracy: 0.9790 - dept_output_layer_accuracy: 1.0000 - loss: 0.0809 - val_att_output_accuracy: 0.8027 - val_dept_output_layer_accuracy: 1.0000 - val_loss: 0.8873\n",
            "Epoch 81/100\n",
            "\u001b[1m37/37\u001b[0m \u001b[32m━━━━━━━━━━━━━━━━━━━━\u001b[0m\u001b[37m\u001b[0m \u001b[1m0s\u001b[0m 1ms/step - att_output_accuracy: 0.9811 - dept_output_layer_accuracy: 1.0000 - loss: 0.0818 - val_att_output_accuracy: 0.8163 - val_dept_output_layer_accuracy: 1.0000 - val_loss: 0.8914\n",
            "Epoch 82/100\n",
            "\u001b[1m37/37\u001b[0m \u001b[32m━━━━━━━━━━━━━━━━━━━━\u001b[0m\u001b[37m\u001b[0m \u001b[1m0s\u001b[0m 2ms/step - att_output_accuracy: 0.9714 - dept_output_layer_accuracy: 1.0000 - loss: 0.0907 - val_att_output_accuracy: 0.7959 - val_dept_output_layer_accuracy: 1.0000 - val_loss: 0.8949\n",
            "Epoch 83/100\n",
            "\u001b[1m37/37\u001b[0m \u001b[32m━━━━━━━━━━━━━━━━━━━━\u001b[0m\u001b[37m\u001b[0m \u001b[1m0s\u001b[0m 2ms/step - att_output_accuracy: 0.9594 - dept_output_layer_accuracy: 1.0000 - loss: 0.0909 - val_att_output_accuracy: 0.7789 - val_dept_output_layer_accuracy: 1.0000 - val_loss: 0.9263\n",
            "Epoch 84/100\n",
            "\u001b[1m37/37\u001b[0m \u001b[32m━━━━━━━━━━━━━━━━━━━━\u001b[0m\u001b[37m\u001b[0m \u001b[1m0s\u001b[0m 1ms/step - att_output_accuracy: 0.9788 - dept_output_layer_accuracy: 1.0000 - loss: 0.0864 - val_att_output_accuracy: 0.7857 - val_dept_output_layer_accuracy: 1.0000 - val_loss: 0.9269\n",
            "Epoch 85/100\n",
            "\u001b[1m37/37\u001b[0m \u001b[32m━━━━━━━━━━━━━━━━━━━━\u001b[0m\u001b[37m\u001b[0m \u001b[1m0s\u001b[0m 2ms/step - att_output_accuracy: 0.9772 - dept_output_layer_accuracy: 1.0000 - loss: 0.0796 - val_att_output_accuracy: 0.7891 - val_dept_output_layer_accuracy: 1.0000 - val_loss: 0.9511\n",
            "Epoch 86/100\n",
            "\u001b[1m37/37\u001b[0m \u001b[32m━━━━━━━━━━━━━━━━━━━━\u001b[0m\u001b[37m\u001b[0m \u001b[1m0s\u001b[0m 1ms/step - att_output_accuracy: 0.9849 - dept_output_layer_accuracy: 1.0000 - loss: 0.0632 - val_att_output_accuracy: 0.7823 - val_dept_output_layer_accuracy: 1.0000 - val_loss: 0.9761\n",
            "Epoch 87/100\n",
            "\u001b[1m37/37\u001b[0m \u001b[32m━━━━━━━━━━━━━━━━━━━━\u001b[0m\u001b[37m\u001b[0m \u001b[1m0s\u001b[0m 2ms/step - att_output_accuracy: 0.9783 - dept_output_layer_accuracy: 1.0000 - loss: 0.0674 - val_att_output_accuracy: 0.8129 - val_dept_output_layer_accuracy: 1.0000 - val_loss: 0.9575\n",
            "Epoch 88/100\n",
            "\u001b[1m37/37\u001b[0m \u001b[32m━━━━━━━━━━━━━━━━━━━━\u001b[0m\u001b[37m\u001b[0m \u001b[1m0s\u001b[0m 1ms/step - att_output_accuracy: 0.9865 - dept_output_layer_accuracy: 1.0000 - loss: 0.0653 - val_att_output_accuracy: 0.8027 - val_dept_output_layer_accuracy: 1.0000 - val_loss: 0.9722\n",
            "Epoch 89/100\n",
            "\u001b[1m37/37\u001b[0m \u001b[32m━━━━━━━━━━━━━━━━━━━━\u001b[0m\u001b[37m\u001b[0m \u001b[1m0s\u001b[0m 1ms/step - att_output_accuracy: 0.9848 - dept_output_layer_accuracy: 1.0000 - loss: 0.0624 - val_att_output_accuracy: 0.7823 - val_dept_output_layer_accuracy: 1.0000 - val_loss: 0.9974\n",
            "Epoch 90/100\n",
            "\u001b[1m37/37\u001b[0m \u001b[32m━━━━━━━━━━━━━━━━━━━━\u001b[0m\u001b[37m\u001b[0m \u001b[1m0s\u001b[0m 1ms/step - att_output_accuracy: 0.9863 - dept_output_layer_accuracy: 1.0000 - loss: 0.0575 - val_att_output_accuracy: 0.8095 - val_dept_output_layer_accuracy: 1.0000 - val_loss: 0.9840\n",
            "Epoch 91/100\n",
            "\u001b[1m37/37\u001b[0m \u001b[32m━━━━━━━━━━━━━━━━━━━━\u001b[0m\u001b[37m\u001b[0m \u001b[1m0s\u001b[0m 2ms/step - att_output_accuracy: 0.9806 - dept_output_layer_accuracy: 1.0000 - loss: 0.0633 - val_att_output_accuracy: 0.8095 - val_dept_output_layer_accuracy: 1.0000 - val_loss: 1.0111\n",
            "Epoch 92/100\n",
            "\u001b[1m37/37\u001b[0m \u001b[32m━━━━━━━━━━━━━━━━━━━━\u001b[0m\u001b[37m\u001b[0m \u001b[1m0s\u001b[0m 2ms/step - att_output_accuracy: 0.9705 - dept_output_layer_accuracy: 1.0000 - loss: 0.0764 - val_att_output_accuracy: 0.8027 - val_dept_output_layer_accuracy: 1.0000 - val_loss: 1.0183\n",
            "Epoch 93/100\n",
            "\u001b[1m37/37\u001b[0m \u001b[32m━━━━━━━━━━━━━━━━━━━━\u001b[0m\u001b[37m\u001b[0m \u001b[1m0s\u001b[0m 1ms/step - att_output_accuracy: 0.9859 - dept_output_layer_accuracy: 1.0000 - loss: 0.0558 - val_att_output_accuracy: 0.7959 - val_dept_output_layer_accuracy: 1.0000 - val_loss: 1.0481\n",
            "Epoch 94/100\n",
            "\u001b[1m37/37\u001b[0m \u001b[32m━━━━━━━━━━━━━━━━━━━━\u001b[0m\u001b[37m\u001b[0m \u001b[1m0s\u001b[0m 2ms/step - att_output_accuracy: 0.9888 - dept_output_layer_accuracy: 1.0000 - loss: 0.0509 - val_att_output_accuracy: 0.7993 - val_dept_output_layer_accuracy: 1.0000 - val_loss: 1.0508\n",
            "Epoch 95/100\n",
            "\u001b[1m37/37\u001b[0m \u001b[32m━━━━━━━━━━━━━━━━━━━━\u001b[0m\u001b[37m\u001b[0m \u001b[1m0s\u001b[0m 2ms/step - att_output_accuracy: 0.9866 - dept_output_layer_accuracy: 1.0000 - loss: 0.0443 - val_att_output_accuracy: 0.8027 - val_dept_output_layer_accuracy: 1.0000 - val_loss: 1.0754\n",
            "Epoch 96/100\n",
            "\u001b[1m37/37\u001b[0m \u001b[32m━━━━━━━━━━━━━━━━━━━━\u001b[0m\u001b[37m\u001b[0m \u001b[1m0s\u001b[0m 1ms/step - att_output_accuracy: 0.9858 - dept_output_layer_accuracy: 1.0000 - loss: 0.0568 - val_att_output_accuracy: 0.8027 - val_dept_output_layer_accuracy: 1.0000 - val_loss: 1.0588\n",
            "Epoch 97/100\n",
            "\u001b[1m37/37\u001b[0m \u001b[32m━━━━━━━━━━━━━━━━━━━━\u001b[0m\u001b[37m\u001b[0m \u001b[1m0s\u001b[0m 1ms/step - att_output_accuracy: 0.9863 - dept_output_layer_accuracy: 1.0000 - loss: 0.0513 - val_att_output_accuracy: 0.7823 - val_dept_output_layer_accuracy: 1.0000 - val_loss: 1.1123\n",
            "Epoch 98/100\n",
            "\u001b[1m37/37\u001b[0m \u001b[32m━━━━━━━━━━━━━━━━━━━━\u001b[0m\u001b[37m\u001b[0m \u001b[1m0s\u001b[0m 1ms/step - att_output_accuracy: 0.9849 - dept_output_layer_accuracy: 1.0000 - loss: 0.0528 - val_att_output_accuracy: 0.7857 - val_dept_output_layer_accuracy: 1.0000 - val_loss: 1.1266\n",
            "Epoch 99/100\n",
            "\u001b[1m37/37\u001b[0m \u001b[32m━━━━━━━━━━━━━━━━━━━━\u001b[0m\u001b[37m\u001b[0m \u001b[1m0s\u001b[0m 1ms/step - att_output_accuracy: 0.9878 - dept_output_layer_accuracy: 1.0000 - loss: 0.0519 - val_att_output_accuracy: 0.8095 - val_dept_output_layer_accuracy: 1.0000 - val_loss: 1.0993\n",
            "Epoch 100/100\n",
            "\u001b[1m37/37\u001b[0m \u001b[32m━━━━━━━━━━━━━━━━━━━━\u001b[0m\u001b[37m\u001b[0m \u001b[1m0s\u001b[0m 1ms/step - att_output_accuracy: 0.9834 - dept_output_layer_accuracy: 1.0000 - loss: 0.0577 - val_att_output_accuracy: 0.7993 - val_dept_output_layer_accuracy: 1.0000 - val_loss: 1.1326\n"
          ]
        }
      ],
      "source": [
        "# Train the model\n",
        "att_model = model.fit(\n",
        "    X_train_scaled,\n",
        "    {'dept_output_layer': y_train_encoded, 'att_output': y_train_att_encoded},\n",
        "    epochs=100,\n",
        "    batch_size=32,\n",
        "    validation_data=(X_test_scaled, {'dept_output_layer': y_test_encoded, 'att_output': y_test_att_encoded}),\n",
        "    verbose=1\n",
        ")\n",
        "\n"
      ]
    },
    {
      "cell_type": "code",
      "execution_count": 64,
      "metadata": {
        "colab": {
          "base_uri": "https://localhost:8080/"
        },
        "id": "VsMoaQlgGc3U",
        "outputId": "1bd4e601-e964-4abc-ad83-aeecf6b696be"
      },
      "outputs": [
        {
          "name": "stdout",
          "output_type": "stream",
          "text": [
            "\u001b[1m10/10\u001b[0m \u001b[32m━━━━━━━━━━━━━━━━━━━━\u001b[0m\u001b[37m\u001b[0m \u001b[1m0s\u001b[0m 871us/step - att_output_accuracy: 0.8157 - dept_output_layer_accuracy: 1.0000 - loss: 1.2580\n",
            "[1.1326041221618652, 0.7993197441101074, 1.0]\n",
            "Test Loss: 1.1326041221618652\n",
            "Test Department Output Loss: 0.7993197441101074\n",
            "Test Attrition Output Loss: 1.0\n"
          ]
        }
      ],
      "source": [
        "# Evaluate the model with the testing data\n",
        "evaluation = model.evaluate(X_test_scaled,\n",
        "    {'dept_output_layer': y_test_encoded, 'att_output': y_test_att_encoded},\n",
        "    verbose=1)\n",
        "\n",
        "# Print the evaluation list to understand its structure\n",
        "print(evaluation)\n",
        "\n",
        "# Extract the specific metrics\n",
        "test_loss = evaluation[0]\n",
        "department_output_loss = evaluation[1]\n",
        "attrition_output_loss = evaluation[2]\n",
        "\n",
        "print(f\"Test Loss: {test_loss}\")\n",
        "print(f\"Test Department Output Loss: {department_output_loss}\")\n",
        "print(f\"Test Attrition Output Loss: {attrition_output_loss}\")\n"
      ]
    },
    {
      "cell_type": "code",
      "execution_count": 65,
      "metadata": {
        "colab": {
          "base_uri": "https://localhost:8080/"
        },
        "id": "ZlCtlHi0Vt54",
        "outputId": "bc21ef3e-80c2-4b38-9c29-79515bc23dec"
      },
      "outputs": [
        {
          "name": "stdout",
          "output_type": "stream",
          "text": [
            "\u001b[1m10/10\u001b[0m \u001b[32m━━━━━━━━━━━━━━━━━━━━\u001b[0m\u001b[37m\u001b[0m \u001b[1m0s\u001b[0m 6ms/step\n",
            "\u001b[1m10/10\u001b[0m \u001b[32m━━━━━━━━━━━━━━━━━━━━\u001b[0m\u001b[37m\u001b[0m \u001b[1m0s\u001b[0m 834us/step\n",
            "Test Department Output Accuracy: 1.0\n",
            "Test Attrition Output Accuracy: 0.7993197278911565\n"
          ]
        }
      ],
      "source": [
        "# Calculate accuracy for the department output\n",
        "dept_pred = model.predict(X_test_scaled)[0]\n",
        "dept_accuracy = np.mean(np.argmax(dept_pred, axis=1) == np.argmax(y_test_encoded, axis=1))\n",
        "\n",
        "# Calculate accuracy for the attrition output\n",
        "att_pred = model.predict(X_test_scaled)[1]\n",
        "att_accuracy = np.mean(np.argmax(att_pred, axis=1) == np.argmax(y_test_att_encoded, axis=1))\n",
        "\n",
        "# Print the accuracy for both department and attrition\n",
        "print(f\"Test Department Output Accuracy: {dept_accuracy}\")\n",
        "print(f\"Test Attrition Output Accuracy: {att_accuracy}\")\n"
      ]
    },
    {
      "cell_type": "markdown",
      "metadata": {
        "id": "eGSyfsZfWOQM"
      },
      "source": [
        "# Summary\n",
        "\n",
        "In the provided space below, briefly answer the following questions.\n",
        "\n",
        "1. Is accuracy the best metric to use on this data? Why or why not?\n",
        "\n",
        "2. What activation functions did you choose for your output layers, and why?\n",
        "\n",
        "3. Can you name a few ways that this model might be improved?"
      ]
    },
    {
      "cell_type": "markdown",
      "metadata": {
        "id": "pi9SLpFnWvbF"
      },
      "source": [
        "YOUR ANSWERS HERE\n",
        "\n",
        "1. I don't think accuracy is the most appropriate metric for this dataset because it doesn't account for potential bias, such as imbalances in attrition data between those who stayed and those who left. A classification report would offer a better understanding of the model's performance.\n",
        "2. Softmax is suitable for multi-class classification in the department output, and for the binary classification in attrition output, it provides probabilities for each class. This enables us to interpret the outputs as the likelihood of each class, facilitating more informed decision-making based on predicted probabilities.\n",
        "3. Several ways to improve the model include adding more layers or neurons, increasing the number of epochs, and/or enhancing feature engineering."
      ]
    },
    {
      "cell_type": "markdown",
      "metadata": {},
      "source": []
    }
  ],
  "metadata": {
    "colab": {
      "provenance": []
    },
    "kernelspec": {
      "display_name": "Python 3",
      "language": "python",
      "name": "python3"
    },
    "language_info": {
      "codemirror_mode": {
        "name": "ipython",
        "version": 3
      },
      "file_extension": ".py",
      "mimetype": "text/x-python",
      "name": "python",
      "nbconvert_exporter": "python",
      "pygments_lexer": "ipython3",
      "version": "3.10.14"
    },
    "vscode": {
      "interpreter": {
        "hash": "31f2aee4e71d21fbe5cf8b01ff0e069b9275f58929596ceb00d14d90e3e16cd6"
      }
    }
  },
  "nbformat": 4,
  "nbformat_minor": 0
}
